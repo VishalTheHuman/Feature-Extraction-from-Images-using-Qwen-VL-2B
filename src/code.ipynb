{
 "cells": [
  {
   "cell_type": "code",
   "execution_count": 1,
   "id": "47d79a90-3c86-4f91-b2dd-0505cb62a147",
   "metadata": {},
   "outputs": [
    {
     "name": "stdout",
     "output_type": "stream",
     "text": [
      "\u001b[33mWARNING: Running pip as the 'root' user can result in broken permissions and conflicting behaviour with the system package manager. It is recommended to use a virtual environment instead: https://pip.pypa.io/warnings/venv\u001b[0m\u001b[33m\n",
      "\u001b[0m"
     ]
    }
   ],
   "source": [
    "!python -m pip install git+https://github.com/huggingface/transformers -q"
   ]
  },
  {
   "cell_type": "code",
   "execution_count": 2,
   "id": "7a7889b5-2a85-4e01-bd41-35216e06708f",
   "metadata": {},
   "outputs": [],
   "source": [
    "!pip install accelerate>=0.26.0"
   ]
  },
  {
   "cell_type": "code",
   "execution_count": null,
   "id": "7494364c",
   "metadata": {},
   "outputs": [
    {
     "name": "stdout",
     "output_type": "stream",
     "text": [
      "Collecting pillow\n",
      "  Downloading pillow-10.4.0-cp312-cp312-manylinux_2_28_x86_64.whl.metadata (9.2 kB)\n",
      "Collecting pandas\n",
      "  Downloading pandas-2.2.2-cp312-cp312-manylinux_2_17_x86_64.manylinux2014_x86_64.whl.metadata (19 kB)\n",
      "Requirement already satisfied: numpy>=1.26.0 in /root/miniconda3/lib/python3.12/site-packages (from pandas) (2.1.1)\n",
      "Requirement already satisfied: python-dateutil>=2.8.2 in /root/miniconda3/lib/python3.12/site-packages (from pandas) (2.9.0)\n",
      "Collecting pytz>=2020.1 (from pandas)\n",
      "  Downloading pytz-2024.2-py2.py3-none-any.whl.metadata (22 kB)\n",
      "Collecting tzdata>=2022.7 (from pandas)\n",
      "  Downloading tzdata-2024.1-py2.py3-none-any.whl.metadata (1.4 kB)\n",
      "Requirement already satisfied: six>=1.5 in /root/miniconda3/lib/python3.12/site-packages (from python-dateutil>=2.8.2->pandas) (1.16.0)\n",
      "Downloading pillow-10.4.0-cp312-cp312-manylinux_2_28_x86_64.whl (4.5 MB)\n",
      "\u001b[2K   \u001b[90m━━━━━━━━━━━━━━━━━━━━━━━━━━━━━━━━━━━━━━━━\u001b[0m \u001b[32m4.5/4.5 MB\u001b[0m \u001b[31m9.5 MB/s\u001b[0m eta \u001b[36m0:00:00\u001b[0m:00:01\u001b[0m00:01\u001b[0m\n",
      "\u001b[?25hDownloading pandas-2.2.2-cp312-cp312-manylinux_2_17_x86_64.manylinux2014_x86_64.whl (12.7 MB)\n",
      "\u001b[2K   \u001b[90m━━━━━━━━━━━━━━━━━━━━━━━━━━━━━━━━━━━━━━━━\u001b[0m \u001b[32m12.7/12.7 MB\u001b[0m \u001b[31m15.3 MB/s\u001b[0m eta \u001b[36m0:00:00\u001b[0m00:01\u001b[0m00:01\u001b[0m\n",
      "\u001b[?25hDownloading pytz-2024.2-py2.py3-none-any.whl (508 kB)\n",
      "\u001b[2K   \u001b[90m━━━━━━━━━━━━━━━━━━━━━━━━━━━━━━━━━━━━━━━━\u001b[0m \u001b[32m508.0/508.0 kB\u001b[0m \u001b[31m4.8 MB/s\u001b[0m eta \u001b[36m0:00:00\u001b[0m:00:01\u001b[0m\n",
      "\u001b[?25hDownloading tzdata-2024.1-py2.py3-none-any.whl (345 kB)\n",
      "\u001b[2K   \u001b[90m━━━━━━━━━━━━━━━━━━━━━━━━━━━━━━━━━━━━━━━━\u001b[0m \u001b[32m345.4/345.4 kB\u001b[0m \u001b[31m1.7 MB/s\u001b[0m eta \u001b[36m0:00:00\u001b[0m:00:01\u001b[0m\n",
      "\u001b[?25hInstalling collected packages: pytz, tzdata, pillow, pandas\n",
      "Successfully installed pandas-2.2.2 pillow-10.4.0 pytz-2024.2 tzdata-2024.1\n",
      "\u001b[33mWARNING: Running pip as the 'root' user can result in broken permissions and conflicting behaviour with the system package manager. It is recommended to use a virtual environment instead: https://pip.pypa.io/warnings/venv\u001b[0m\u001b[33m\n",
      "\u001b[0m"
     ]
    }
   ],
   "source": [
    "!pip install pillow pandas"
   ]
  },
  {
   "cell_type": "code",
   "execution_count": null,
   "id": "0ac64a89-f5d4-47c5-9690-85439705f700",
   "metadata": {},
   "outputs": [
    {
     "name": "stderr",
     "output_type": "stream",
     "text": [
      "/root/miniconda3/lib/python3.12/site-packages/tqdm/auto.py:21: TqdmWarning: IProgress not found. Please update jupyter and ipywidgets. See https://ipywidgets.readthedocs.io/en/stable/user_install.html\n",
      "  from .autonotebook import tqdm as notebook_tqdm\n"
     ]
    }
   ],
   "source": [
    "from transformers import Qwen2VLForConditionalGeneration, AutoTokenizer, AutoProcessor"
   ]
  },
  {
   "cell_type": "code",
   "execution_count": null,
   "id": "050f7ee6-aace-4417-a94c-03351be9197e",
   "metadata": {},
   "outputs": [
    {
     "name": "stderr",
     "output_type": "stream",
     "text": [
      "Unrecognized keys in `rope_scaling` for 'rope_type'='default': {'mrope_section'}\n",
      "Downloading shards: 100%|██████████| 2/2 [00:56<00:00, 28.41s/it]\n",
      "`Qwen2VLRotaryEmbedding` can now be fully parameterized by passing the model config through the `config` argument. All other arguments will be removed in v4.46\n",
      "Loading checkpoint shards: 100%|██████████| 2/2 [00:01<00:00,  1.18it/s]\n"
     ]
    }
   ],
   "source": [
    "model = Qwen2VLForConditionalGeneration.from_pretrained(\n",
    "    \"Qwen/Qwen2-VL-2B-Instruct\",\n",
    "    torch_dtype=\"auto\",\n",
    "    device_map=\"auto\",\n",
    ")\n",
    "\n",
    "processor = AutoProcessor.from_pretrained(\n",
    "    \"Qwen/Qwen2-VL-2B-Instruct\"\n",
    ")"
   ]
  },
  {
   "cell_type": "code",
   "execution_count": null,
   "id": "74e99bbf-a5fc-4e4d-8d40-59a2c78f0cc8",
   "metadata": {},
   "outputs": [],
   "source": [
    "from PIL import Image\n",
    "import requests\n",
    "import pandas as pd\n",
    "import logging\n",
    "from tqdm import tqdm"
   ]
  },
  {
   "cell_type": "code",
   "execution_count": null,
   "id": "265b2581-d54a-4b78-939f-47b71778cf39",
   "metadata": {},
   "outputs": [],
   "source": [
    "from PIL import Image, ImageEnhance\n",
    "\n",
    "def resize_image(image, min_dimension=64, max_dimension=1500, algorithm=Image.LANCZOS):\n",
    "    # Get the width and height of the image\n",
    "    width, height = image.size\n",
    "    \n",
    "    # Check if either dimension is smaller than the minimum allowed size\n",
    "    if min(width, height) < 64:\n",
    "        # Calculate the scaling factor to maintain aspect ratio\n",
    "        scaling_factor = min_dimension / min(width, height)\n",
    "        \n",
    "        # Calculate new dimensions\n",
    "        new_width = max(min_dimension, int(width * scaling_factor))\n",
    "        new_height = max(min_dimension, int(height * scaling_factor))\n",
    "        \n",
    "        try:\n",
    "            # Attempt to upsample the image using Lanczos\n",
    "            image = image.resize((new_width, new_height), Image.LANCZOS)\n",
    "        except Exception as e:\n",
    "            print(f\"Error upsampling with Lanczos: {str(e)}\")\n",
    "            print(\"Falling back to bicubic interpolation...\")\n",
    "            # Fall back to bicubic interpolation\n",
    "            image = image.resize((new_width, new_height), Image.BICUBIC)\n",
    "    \n",
    "    # Now check if either dimension is larger than the maximum allowed size\n",
    "    elif max(width, height) > max_dimension:\n",
    "        # Calculate the scaling factor to maintain aspect ratio\n",
    "        scaling_factor = max_dimension / max(width, height)\n",
    "        \n",
    "        # Calculate new dimensions\n",
    "        new_width = int(width * scaling_factor)\n",
    "        new_height = int(height * scaling_factor)\n",
    "        \n",
    "        try:\n",
    "            # Attempt to resize the image using the specified algorithm\n",
    "            image = image.resize((new_width, new_height), algorithm)\n",
    "        except Exception as e:\n",
    "            print(f\"Error using {algorithm} algorithm: {str(e)}\")\n",
    "            print(\"Falling back to simple scale down...\")\n",
    "            # Fall back to simple scale down\n",
    "            image = image.resize((new_width, new_height), Image.NEAREST)\n",
    "    \n",
    "    return image\n",
    "\n",
    "def downsize_and_enhance_contrast(input_img, contrast_factor=1.5, max_dimension=1500):\n",
    "    # Open the image\n",
    "    image = input_img\n",
    "    \n",
    "    # Resize the image if its dimensions are larger than the max allowed\n",
    "    image = resize_image(image, max_dimension=max_dimension)\n",
    "    \n",
    "    # Enhance the contrast of the resized image\n",
    "    enhancer = ImageEnhance.Contrast(image)\n",
    "    enhanced_image = enhancer.enhance(contrast_factor)  # contrast_factor > 1 increases contrast\n",
    "    \n",
    "    # Save the enhanced image\n",
    "    return enhanced_image"
   ]
  },
  {
   "cell_type": "code",
   "execution_count": null,
   "id": "52d95ee4-335b-4da5-9049-de272cd6dbd9",
   "metadata": {},
   "outputs": [
    {
     "name": "stderr",
     "output_type": "stream",
     "text": [
      "Processing images:  46%|████▋     | 3700/8000 [1:59:31<2:18:54,  1.94s/it]\n"
     ]
    }
   ],
   "source": [
    "\n",
    "\n",
    "# Define the prompt templates based on entity_name\n",
    "prompt_templates = {    \n",
    "    \"depth\": \"Identify the depth of the product.\",\n",
    "    \n",
    "    \"height\": \"Identify the height of the product.\",\n",
    "    \n",
    "    \"item_volume\": \"Determine the volume of the product by interpreting any dimensions related to width, depth, and height If a volume is not explicitly given, calculate from visible dimensions if possible.\",\n",
    "    \n",
    "    \"item_weight\": \"Identify the product's item weight if specifically indicated in the image. Focus on labels with 'weight' or similar measurement of units such as mass like kg, g, oz et.\",\n",
    "    \n",
    "    \"maximum_weight_recommendation\": \"Identify the maximum weight recommendation if shown in the image. Look for labels that suggest maximum load capacity or recommendations.\",\n",
    "    \n",
    "    \"voltage\": \"Identify the voltage rating of the product. Focus on electrical specifications that might be mentioned in the product illustration.\",\n",
    "    \n",
    "    \"wattage\": \"Identify the wattage of the product in the product. Look for labels indicating power usage or output near the product.\",\n",
    "    \n",
    "    \"width\": \"Identify the width of the product.\"\n",
    "}\n",
    "\n",
    "\n",
    "# Define a function to process a single image and generate text based on the prompt\n",
    "def process_image(image_url, prompt):\n",
    "    try:\n",
    "        # Load the image\n",
    "        image = Image.open(requests.get(image_url, stream=True).raw)\n",
    "        image = downsize_and_enhance_contrast(image, contrast_factor=1.2, max_dimension=1500)\n",
    "        \n",
    "        # Create the prompt for the model\n",
    "        messages = [\n",
    "            {\n",
    "                \"role\": \"user\",\n",
    "                \"content\": [\n",
    "                    {\n",
    "                        \"type\": \"image\",\n",
    "                    },\n",
    "                    {\n",
    "                        \"type\": \"text\",\n",
    "                        \"text\": prompt\n",
    "                    }\n",
    "                ]\n",
    "            }\n",
    "        ]\n",
    "\n",
    "        # Prepare the prompt for the model\n",
    "        text_prompt = processor.apply_chat_template(messages, add_generation_prompt=True)\n",
    "\n",
    "        # Process the input (image + text)\n",
    "        inputs = processor(\n",
    "            text=[text_prompt],\n",
    "            images=[image],\n",
    "            padding=True,\n",
    "            return_tensors=\"pt\"\n",
    "        )\n",
    "\n",
    "        # Move inputs to the same device as the model\n",
    "        inputs = inputs.to(\"cuda\")\n",
    "\n",
    "        # Generate output text from the model\n",
    "        output_ids = model.generate(**inputs, max_new_tokens=1024)\n",
    "\n",
    "        # Extract the generated text\n",
    "        generated_ids = [\n",
    "            output_ids[len(input_ids):]\n",
    "            for input_ids, output_ids in zip(inputs.input_ids, output_ids)\n",
    "        ]\n",
    "\n",
    "        output_text = processor.batch_decode(\n",
    "            generated_ids, skip_special_tokens=True, clean_up_tokenization_spaces=True\n",
    "        )\n",
    "\n",
    "        return output_text[0]  # Return the generated text\n",
    "    \n",
    "    except Exception as e:\n",
    "        # Log the error and return None or a default string\n",
    "        logging.error(f\"Error processing image from {image_url}: {str(e)}\")\n",
    "        return \"Error\"\n",
    "\n",
    "# Read the CSV file\n",
    "try:\n",
    "    df = pd.read_csv('/home/test.csv')\n",
    "except Exception as e:\n",
    "    logging.error(f\"Error reading CSV file: {str(e)}\")\n",
    "    df = pd.DataFrame()  # Create an empty DataFrame if reading fails\n",
    "\n",
    "# Create an empty list to store the results temporarily\n",
    "batch_results = []\n",
    "\n",
    "# Initialize an empty CSV file to store the final output\n",
    "output_csv = '/home/generated_output.csv'\n",
    "\n",
    "# Initialize the progress bar\n",
    "with tqdm(total=df.shape[0], desc=\"Processing images\") as pbar:\n",
    "    # Iterate over each row in the DataFrame\n",
    "    for index_ref, row in df.iloc[:3700].iterrows():\n",
    "        try:\n",
    "            index = row['index']\n",
    "            # Extract the image link and the entity_name for the prompt\n",
    "            image_link = row['image_link']\n",
    "            entity_name = row['entity_name']\n",
    "\n",
    "            # Use the appropriate prompt based on the entity_name\n",
    "            prompt = prompt_templates.get(entity_name, f\"What is the {entity_name}, return as {{{entity_name}}}\")\n",
    "\n",
    "            # Process the image and get the generated output text\n",
    "            generated_output = process_image(image_link, prompt)\n",
    "\n",
    "            # Append the index and the generated output to the batch results\n",
    "            batch_results.append([index, generated_output])\n",
    "\n",
    "            # Check if batch_results has reached 500 entries, then save to CSV\n",
    "            if len(batch_results) >= 100:\n",
    "                batch_df = pd.DataFrame(batch_results, columns=['index', 'generated_output'])\n",
    "\n",
    "                # Append to CSV file\n",
    "                try:\n",
    "                    batch_df.to_csv(output_csv, mode='a', header=not pd.io.common.file_exists(output_csv), index=False)\n",
    "                    batch_results = []  # Clear the batch after saving\n",
    "                except Exception as e:\n",
    "                    logging.error(f\"Error saving CSV file: {str(e)}\")\n",
    "                    print(\"Error occurred while saving the output CSV file.\")\n",
    "\n",
    "        except Exception as e:\n",
    "            # Log the error related to this row and continue with the next one\n",
    "            logging.error(f\"Error processing row {index}: {str(e)}\")\n",
    "            batch_results.append([index, \"Error\"])\n",
    "\n",
    "        # Update the progress bar\n",
    "        pbar.update(1)\n",
    "\n",
    "# Save any remaining results that weren't written in the last batch\n",
    "if batch_results:\n",
    "    batch_df = pd.DataFrame(batch_results, columns=['index', 'generated_output'])\n",
    "    try:\n",
    "        batch_df.to_csv(output_csv, mode='a', header=not pd.io.common.file_exists(output_csv), index=False)\n",
    "        print(f\"Final batch saved to '{output_csv}'.\")\n",
    "    except Exception as e:\n",
    "        logging.error(f\"Error saving final CSV batch: {str(e)}\")\n",
    "        print(\"Error occurred while saving the final batch to the CSV file.\")\n"
   ]
  },
  {
   "cell_type": "code",
   "execution_count": null,
   "id": "f7490452",
   "metadata": {},
   "outputs": [],
   "source": []
  }
 ],
 "metadata": {
  "kernelspec": {
   "display_name": "Python 3 (ipykernel)",
   "language": "python",
   "name": "python3"
  },
  "language_info": {
   "codemirror_mode": {
    "name": "ipython",
    "version": 3
   },
   "file_extension": ".py",
   "mimetype": "text/x-python",
   "name": "python",
   "nbconvert_exporter": "python",
   "pygments_lexer": "ipython3",
   "version": "3.12.2"
  }
 },
 "nbformat": 4,
 "nbformat_minor": 5
}
